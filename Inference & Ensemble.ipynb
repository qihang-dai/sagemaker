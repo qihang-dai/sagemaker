{
 "cells": [
  {
   "cell_type": "markdown",
   "id": "aae17da1-551d-4ee6-91ef-f34ced7ee375",
   "metadata": {},
   "source": [
    "# CIS519 Trained Model Ensemble and Inference"
   ]
  },
  {
   "cell_type": "markdown",
   "id": "20620331-6b5b-41a1-bb3a-bece7b5feaf4",
   "metadata": {},
   "source": [
    "## Boostrap"
   ]
  },
  {
   "cell_type": "code",
   "execution_count": 3,
   "id": "48972c21-fd9d-4a2e-bab4-3e09150b5dc4",
   "metadata": {
    "tags": []
   },
   "outputs": [
    {
     "name": "stdout",
     "output_type": "stream",
     "text": [
      "Looking in indexes: https://pypi.org/simple, https://pip.repos.neuron.amazonaws.com\n",
      "Requirement already satisfied: timm in /home/ec2-user/anaconda3/envs/pytorch_p39/lib/python3.9/site-packages (0.6.13)\n",
      "Requirement already satisfied: pyyaml in /home/ec2-user/anaconda3/envs/pytorch_p39/lib/python3.9/site-packages (from timm) (5.4.1)\n",
      "Requirement already satisfied: torch>=1.7 in /home/ec2-user/anaconda3/envs/pytorch_p39/lib/python3.9/site-packages (from timm) (1.13.1)\n",
      "Requirement already satisfied: huggingface-hub in /home/ec2-user/anaconda3/envs/pytorch_p39/lib/python3.9/site-packages (from timm) (0.13.4)\n",
      "Requirement already satisfied: torchvision in /home/ec2-user/anaconda3/envs/pytorch_p39/lib/python3.9/site-packages (from timm) (0.14.1)\n",
      "Requirement already satisfied: typing_extensions in /home/ec2-user/anaconda3/envs/pytorch_p39/lib/python3.9/site-packages (from torch>=1.7->timm) (4.4.0)\n",
      "Requirement already satisfied: tqdm>=4.42.1 in /home/ec2-user/anaconda3/envs/pytorch_p39/lib/python3.9/site-packages (from huggingface-hub->timm) (4.63.2)\n",
      "Requirement already satisfied: filelock in /home/ec2-user/anaconda3/envs/pytorch_p39/lib/python3.9/site-packages (from huggingface-hub->timm) (3.6.0)\n",
      "Requirement already satisfied: requests in /home/ec2-user/anaconda3/envs/pytorch_p39/lib/python3.9/site-packages (from huggingface-hub->timm) (2.28.1)\n",
      "Requirement already satisfied: packaging>=20.9 in /home/ec2-user/anaconda3/envs/pytorch_p39/lib/python3.9/site-packages (from huggingface-hub->timm) (21.3)\n",
      "Requirement already satisfied: numpy in /home/ec2-user/anaconda3/envs/pytorch_p39/lib/python3.9/site-packages (from torchvision->timm) (1.23.5)\n",
      "Requirement already satisfied: pillow!=8.3.*,>=5.3.0 in /home/ec2-user/anaconda3/envs/pytorch_p39/lib/python3.9/site-packages (from torchvision->timm) (9.2.0)\n",
      "Requirement already satisfied: pyparsing!=3.0.5,>=2.0.2 in /home/ec2-user/anaconda3/envs/pytorch_p39/lib/python3.9/site-packages (from packaging>=20.9->huggingface-hub->timm) (3.0.9)\n",
      "Requirement already satisfied: certifi>=2017.4.17 in /home/ec2-user/anaconda3/envs/pytorch_p39/lib/python3.9/site-packages (from requests->huggingface-hub->timm) (2022.12.7)\n",
      "Requirement already satisfied: idna<4,>=2.5 in /home/ec2-user/anaconda3/envs/pytorch_p39/lib/python3.9/site-packages (from requests->huggingface-hub->timm) (3.4)\n",
      "Requirement already satisfied: charset-normalizer<3,>=2 in /home/ec2-user/anaconda3/envs/pytorch_p39/lib/python3.9/site-packages (from requests->huggingface-hub->timm) (2.1.1)\n",
      "Requirement already satisfied: urllib3<1.27,>=1.21.1 in /home/ec2-user/anaconda3/envs/pytorch_p39/lib/python3.9/site-packages (from requests->huggingface-hub->timm) (1.26.8)\n"
     ]
    }
   ],
   "source": [
    "!pip install timm"
   ]
  },
  {
   "cell_type": "code",
   "execution_count": 4,
   "id": "227423c6-6699-45e6-8ae0-754d618f29bf",
   "metadata": {
    "tags": []
   },
   "outputs": [],
   "source": [
    "import numpy as np\n",
    "import pandas as pd\n",
    "import seaborn as sns\n",
    "import matplotlib.pyplot as plt\n",
    "\n",
    "import time\n",
    "from datetime import datetime\n",
    "import os\n",
    "import io\n",
    "import boto3\n",
    "from io import BytesIO\n",
    "import sagemaker\n",
    "from sagemaker import get_execution_role\n",
    "\n",
    "import torch\n",
    "import torchvision\n",
    "from torchvision.datasets import ImageFolder\n",
    "from torchvision.datasets.utils import download_url\n",
    "import torchvision as tv\n",
    "import torchvision.transforms as T\n",
    "import torchvision.models as M\n",
    "import torch.nn as nn\n",
    "import torch.optim as optim\n",
    "import torch.nn.functional as F\n",
    "from torch.utils.data import Dataset, DataLoader, IterableDataset, random_split\n",
    "from PIL import Image\n",
    "import random\n",
    "from tqdm import tqdm\n",
    "\n",
    "from torch.cuda.amp import autocast, GradScaler\n",
    "from datetime import datetime\n",
    "import pytz\n",
    "import timm\n",
    "\n",
    "from sklearn.model_selection import StratifiedKFold, train_test_split\n",
    "from sklearn.metrics import confusion_matrix, precision_recall_fscore_support"
   ]
  },
  {
   "cell_type": "code",
   "execution_count": 5,
   "id": "7b8af24a-59ad-45cc-bffc-e18d146b6999",
   "metadata": {
    "tags": []
   },
   "outputs": [
    {
     "name": "stdout",
     "output_type": "stream",
     "text": [
      "arn:aws:iam::968333200412:role/SageMakerExecutionRole\n",
      "CPU times: user 284 ms, sys: 28.5 ms, total: 312 ms\n",
      "Wall time: 425 ms\n"
     ]
    }
   ],
   "source": [
    "%%time\n",
    "# Set the timezone to Pacific Time\n",
    "pt = pytz.timezone('America/Los_Angeles')\n",
    "\n",
    "role = get_execution_role()\n",
    "print(role)\n",
    "\n",
    "region = boto3.Session().region_name\n",
    "sess = sagemaker.Session()"
   ]
  },
  {
   "cell_type": "code",
   "execution_count": 6,
   "id": "6169613e-855d-442c-91b6-c3ed36db2717",
   "metadata": {
    "tags": []
   },
   "outputs": [
    {
     "name": "stdout",
     "output_type": "stream",
     "text": [
      "cuda\n"
     ]
    }
   ],
   "source": [
    "device = torch.device(\"cuda\" if torch.cuda.is_available() else \"cpu\")\n",
    "print(device)"
   ]
  },
  {
   "cell_type": "code",
   "execution_count": 7,
   "id": "aba4b084-c688-4d1a-82b9-d6656aea1e0f",
   "metadata": {
    "tags": []
   },
   "outputs": [
    {
     "name": "stdout",
     "output_type": "stream",
     "text": [
      "519bucket\n"
     ]
    },
    {
     "data": {
      "text/html": [
       "<div>\n",
       "<style scoped>\n",
       "    .dataframe tbody tr th:only-of-type {\n",
       "        vertical-align: middle;\n",
       "    }\n",
       "\n",
       "    .dataframe tbody tr th {\n",
       "        vertical-align: top;\n",
       "    }\n",
       "\n",
       "    .dataframe thead th {\n",
       "        text-align: right;\n",
       "    }\n",
       "</style>\n",
       "<table border=\"1\" class=\"dataframe\">\n",
       "  <thead>\n",
       "    <tr style=\"text-align: right;\">\n",
       "      <th></th>\n",
       "      <th>image_id</th>\n",
       "      <th>label</th>\n",
       "    </tr>\n",
       "  </thead>\n",
       "  <tbody>\n",
       "    <tr>\n",
       "      <th>0</th>\n",
       "      <td>1000015157.jpg</td>\n",
       "      <td>0</td>\n",
       "    </tr>\n",
       "    <tr>\n",
       "      <th>1</th>\n",
       "      <td>1000201771.jpg</td>\n",
       "      <td>3</td>\n",
       "    </tr>\n",
       "    <tr>\n",
       "      <th>2</th>\n",
       "      <td>100042118.jpg</td>\n",
       "      <td>1</td>\n",
       "    </tr>\n",
       "    <tr>\n",
       "      <th>3</th>\n",
       "      <td>1000723321.jpg</td>\n",
       "      <td>1</td>\n",
       "    </tr>\n",
       "    <tr>\n",
       "      <th>4</th>\n",
       "      <td>1000812911.jpg</td>\n",
       "      <td>3</td>\n",
       "    </tr>\n",
       "  </tbody>\n",
       "</table>\n",
       "</div>"
      ],
      "text/plain": [
       "         image_id  label\n",
       "0  1000015157.jpg      0\n",
       "1  1000201771.jpg      3\n",
       "2   100042118.jpg      1\n",
       "3  1000723321.jpg      1\n",
       "4  1000812911.jpg      3"
      ]
     },
     "execution_count": 7,
     "metadata": {},
     "output_type": "execute_result"
    }
   ],
   "source": [
    "s3_client = boto3.client('s3')\n",
    "\n",
    "# List all the buckets\n",
    "response = s3_client.list_buckets()\n",
    "\n",
    "# Print the name of each bucket\n",
    "for bucket in response['Buckets']:\n",
    "    print(bucket['Name'])\n",
    "    bucket_name = bucket['Name']\n",
    "\n",
    "# List all the folders (prefixes) inside the bucket\n",
    "response = s3_client.list_objects_v2(Bucket=bucket_name, Delimiter='/')\n",
    "\n",
    "file_path = 'dataset/train.csv'\n",
    "train_csv_obj = s3_client.get_object(Bucket=bucket_name, Key=file_path)\n",
    "train_df =pd.read_csv(io.BytesIO(train_csv_obj['Body'].read()))\n",
    "train_df.head()"
   ]
  },
  {
   "cell_type": "code",
   "execution_count": 8,
   "id": "a845433b-3e9b-40af-9297-e3f10f289341",
   "metadata": {
    "tags": []
   },
   "outputs": [],
   "source": [
    "read_file_from_s3 = lambda file_path: s3_client.get_object(Bucket=bucket_name, Key=file_path)['Body']\n",
    "\n",
    "pd.read_csv(read_file_from_s3('dataset/train.csv'))\n",
    "\n",
    "# Print labels and category encodings\n",
    "path_prefix = 'dataset/'\n",
    "\n",
    "# Load data\n",
    "train = pd.read_csv('clean_train_df.csv')\n",
    "test = pd.read_csv(read_file_from_s3('dataset/sample_submission.csv'))\n",
    "label_map = pd.read_json(read_file_from_s3('dataset/label_num_to_disease_map.json'), orient='index')"
   ]
  },
  {
   "cell_type": "markdown",
   "id": "d4185346-284f-49e9-9487-f63b0429ad82",
   "metadata": {},
   "source": [
    "## Dataset"
   ]
  },
  {
   "cell_type": "code",
   "execution_count": 9,
   "id": "af851bde-9395-49ad-a677-b5620f60417d",
   "metadata": {
    "tags": []
   },
   "outputs": [],
   "source": [
    "# Define basic transformation and augmentation\n",
    "transform = T.Compose([\n",
    "    T.Resize(256),\n",
    "    T.CenterCrop(224),\n",
    "    T.RandomHorizontalFlip(),\n",
    "    T.RandomRotation(10),\n",
    "    T.ToTensor(),\n",
    "    T.Normalize(\n",
    "        mean=[0.485, 0.456, 0.406],\n",
    "        std=[0.229, 0.224, 0.225])\n",
    "])\n",
    "\n",
    "class CassavaDataset(Dataset):\n",
    "    def __init__(self, csv_path, s3_prefix, transform=None):\n",
    "        self.data = pd.read_csv(csv_path)\n",
    "        self.s3_prefix = s3_prefix\n",
    "        self.transform = transform\n",
    "        \n",
    "    def __len__(self):\n",
    "        return len(self.data)\n",
    "    \n",
    "    def __getitem__(self, index):\n",
    "        row = self.data.iloc[index]\n",
    "        image_path = f\"{self.s3_prefix}/{row['image_id']}\"\n",
    "        #now doing good thing\n",
    "        image_bytes = read_file_from_s3(image_path)\n",
    "        image = Image.open(image_bytes).convert('RGB')\n",
    "        if self.transform is not None:\n",
    "            image = self.transform(image)\n",
    "        label = row['label']\n",
    "        return image, label\n",
    "        \n",
    "train_data_path = 'clean_train_df.csv'\n",
    "s3_prefix = 'dataset/train_images'\n",
    "dataset = CassavaDataset(train_data_path, s3_prefix, transform=transform)"
   ]
  },
  {
   "cell_type": "code",
   "execution_count": 10,
   "id": "079cf91c-89a3-40f2-89d1-280c77872e0f",
   "metadata": {
    "tags": []
   },
   "outputs": [],
   "source": [
    "# Train test split\n",
    "train_size = int(0.8 * len(dataset))\n",
    "test_size = len(dataset) - train_size\n",
    "train_dataset, test_dataset = random_split(dataset, [train_size, test_size])\n",
    "\n",
    "# Load data\n",
    "batch_size = 32\n",
    "train_loader = DataLoader(train_dataset, batch_size=batch_size, shuffle=True)\n",
    "test_loader = DataLoader(test_dataset, batch_size=batch_size, shuffle=True)"
   ]
  },
  {
   "cell_type": "markdown",
   "id": "af9fb5c2-2915-441c-8095-69c03add7934",
   "metadata": {},
   "source": [
    "## Models"
   ]
  },
  {
   "cell_type": "code",
   "execution_count": 11,
   "id": "3e35cb8c-95b7-4e8d-a6ad-01bac7373ec4",
   "metadata": {
    "tags": []
   },
   "outputs": [],
   "source": [
    "class BasicCNN(nn.Module):\n",
    "    def __init__(self, num_classes=5):\n",
    "        super(BasicCNN, self).__init__()\n",
    "        self.features = nn.Sequential(\n",
    "            nn.Conv2d(3, 32, kernel_size=3, stride=1, padding=1),\n",
    "            nn.ReLU(inplace=True),\n",
    "            nn.MaxPool2d(kernel_size=2, stride=2),\n",
    "            nn.Conv2d(32, 64, kernel_size=3, stride=1, padding=1),\n",
    "            nn.ReLU(inplace=True),\n",
    "            nn.MaxPool2d(kernel_size=2, stride=2),\n",
    "            nn.Conv2d(64, 128, kernel_size=3, stride=1, padding=1),\n",
    "            nn.ReLU(inplace=True),\n",
    "            nn.MaxPool2d(kernel_size=2, stride=2),\n",
    "            nn.Conv2d(128, 256, kernel_size=3, stride=1, padding=1),\n",
    "            nn.ReLU(inplace=True),\n",
    "            nn.MaxPool2d(kernel_size=2, stride=2),\n",
    "            nn.Conv2d(256, 512, kernel_size=3, stride=1, padding=1),\n",
    "            nn.ReLU(inplace=True),\n",
    "            nn.MaxPool2d(kernel_size=2, stride=2)\n",
    "        )\n",
    "        self.avgpool = nn.AdaptiveAvgPool2d((1, 1))\n",
    "        self.classifier = nn.Linear(512, num_classes)\n",
    "\n",
    "    def forward(self, x):\n",
    "        x = self.features(x)\n",
    "        x = self.avgpool(x)\n",
    "        x = x.view(x.size(0), -1)\n",
    "        x = self.classifier(x)\n",
    "        return x\n",
    "\n",
    "\n",
    "class ResNet(nn.Module):\n",
    "    def __init__(self, num_classes, pretrained=False):\n",
    "        super(ResNet, self).__init__()\n",
    "        \n",
    "        # Load pretrained ResNet18\n",
    "        self.resnet = M.resnet18(pretrained=pretrained)\n",
    "        \n",
    "        # Replace last fully connected layer with new layer for custom number of classes\n",
    "        num_ftrs = self.resnet.fc.in_features\n",
    "        self.resnet.fc = nn.Linear(num_ftrs, num_classes)\n",
    "\n",
    "    def forward(self, x):\n",
    "        # Forward pass through ResNet18 layers\n",
    "        x = self.resnet(x)\n",
    "        return x\n",
    "\n",
    "\n",
    "class VitClassifier(nn.Module):\n",
    "    def __init__(self, model_name=\"vit_base_patch16_224\", n_classes=5, pretrained=False):\n",
    "        super().__init__()\n",
    "        self.model = timm.create_model(model_name, pretrained=pretrained)\n",
    "        n_features = self.model.head.in_features\n",
    "        self.model.head = nn.Linear(n_features, n_classes)\n",
    "        self.best_val_loss = float('inf')  # initialize best validation loss to infinity\n",
    "        self.early_stopping_rounds = 3  # number of epochs to wait before early stopping\n",
    "        self.epochs_without_improvement = 0  # number of epochs without improvement\n",
    "        self.scaler = GradScaler()  # initialize GradScaler\n",
    "    \n",
    "    def forward(self, x):\n",
    "        x = self.model(x)\n",
    "        return x\n",
    "    \n",
    "    def evaluate(self, loader, criterion, device):\n",
    "        self.model.eval()\n",
    "        val_loss = 0\n",
    "        val_acc = 0\n",
    "        with torch.no_grad():\n",
    "            for data, target in loader:\n",
    "                data, target = data.to(device), target.to(device)\n",
    "                output = self.model(data)\n",
    "                val_loss += criterion(output, target).item()\n",
    "                val_acc += (output.argmax(1) == target).sum().item()\n",
    "\n",
    "        val_loss /= len(loader)\n",
    "        val_acc /= len(loader.dataset)\n",
    "        return val_loss, val_acc\n",
    "    \n",
    "    def train_one(self, loader, optimizer, criterion, device, val_loader=None):\n",
    "        self.model.train()\n",
    "        train_loss = 0\n",
    "        train_acc = 0\n",
    "        pbar = tqdm(enumerate(loader), total=len(loader))\n",
    "        for step, batch in pbar:\n",
    "            optimizer.zero_grad()\n",
    "            data, target = batch\n",
    "            data, target = data.to(device), target.to(device)\n",
    "\n",
    "            with autocast():\n",
    "                output = self.model(data)\n",
    "                loss = criterion(output, target)\n",
    "\n",
    "            self.scaler.scale(loss).backward()\n",
    "            self.scaler.step(optimizer)\n",
    "            self.scaler.update()\n",
    "\n",
    "            train_loss += loss.item()\n",
    "            train_acc += (output.argmax(1) == target).sum().item()\n",
    "\n",
    "        train_loss /= len(loader)\n",
    "        train_acc /= len(loader.dataset)\n",
    "\n",
    "        if val_loader is not None:\n",
    "            val_loss, val_acc = self.evaluate(val_loader, criterion, device)\n",
    "            if val_loss < self.best_val_loss:\n",
    "                self.best_val_loss = val_loss\n",
    "                self.epochs_without_improvement = 0\n",
    "            else:\n",
    "                self.epochs_without_improvement += 1\n",
    "\n",
    "        if self.epochs_without_improvement >= self.early_stopping_rounds:\n",
    "            print(f'Validation loss has not improved in {self.early_stopping_rounds} epochs. Early stopping...')\n",
    "            return train_loss, train_acc, True\n",
    "        else:\n",
    "            return train_loss, train_acc, False"
   ]
  },
  {
   "cell_type": "markdown",
   "id": "449b799f-b29e-4da3-8a46-444048a0aab2",
   "metadata": {},
   "source": [
    "## Evaluation"
   ]
  },
  {
   "cell_type": "code",
   "execution_count": 12,
   "id": "6e97c9a4-4347-4f4e-8155-6db07a563aff",
   "metadata": {
    "tags": []
   },
   "outputs": [],
   "source": [
    "def evaluate(model, test_loader):\n",
    "    model.to(\"cuda\")\n",
    "    model.eval()\n",
    "    device = torch.device(\"cuda\" if torch.cuda.is_available() else \"cpu\")\n",
    "\n",
    "    correct = 0\n",
    "    total = 0\n",
    "    preds = np.array([])\n",
    "    labels = np.array([])\n",
    "    with torch.no_grad():\n",
    "        pbar = tqdm(enumerate(test_loader), total=len(test_loader))\n",
    "        for step, (inputs, targets) in pbar:\n",
    "            inputs, targets = inputs.to(device), targets.to(device)\n",
    "\n",
    "            outputs = model(inputs)\n",
    "            _, predicted = torch.max(outputs.data, 1)\n",
    "\n",
    "            total += targets.size(0)\n",
    "            correct += (predicted == targets).sum().item()\n",
    "\n",
    "            preds = np.concatenate([preds, predicted.cpu().numpy()])\n",
    "            labels = np.concatenate([labels, targets.cpu().numpy()])\n",
    "\n",
    "    test_acc = 100 * correct / total\n",
    "    print('Test accuracy: %d %%' % test_acc)\n",
    "\n",
    "    return preds, labels, test_acc"
   ]
  },
  {
   "cell_type": "code",
   "execution_count": 13,
   "id": "c703419a-65cd-4c88-90fd-3563728aeaf6",
   "metadata": {
    "tags": []
   },
   "outputs": [
    {
     "data": {
      "text/plain": [
       "<All keys matched successfully>"
      ]
     },
     "execution_count": 13,
     "metadata": {},
     "output_type": "execute_result"
    }
   ],
   "source": [
    "cnn = BasicCNN(num_classes=5).to(device)\n",
    "cnn.load_state_dict(torch.load(\"models/cnn-04_53.pth\"))"
   ]
  },
  {
   "cell_type": "code",
   "execution_count": 14,
   "id": "c3d44022-dc76-46c6-9f3a-afc6f566986b",
   "metadata": {
    "tags": []
   },
   "outputs": [
    {
     "name": "stdout",
     "output_type": "stream",
     "text": [
      "evaluate CNN\n"
     ]
    },
    {
     "name": "stderr",
     "output_type": "stream",
     "text": [
      "100%|██████████| 61/61 [02:54<00:00,  2.85s/it]"
     ]
    },
    {
     "name": "stdout",
     "output_type": "stream",
     "text": [
      "Test accuracy: 67 %\n"
     ]
    },
    {
     "name": "stderr",
     "output_type": "stream",
     "text": [
      "\n"
     ]
    }
   ],
   "source": [
    "# Evaluate the model on the test data\n",
    "print(\"evaluate CNN\")\n",
    "cnn_preds, cnn_labels, cnn_test_acc = evaluate(cnn, test_loader)"
   ]
  },
  {
   "cell_type": "code",
   "execution_count": 15,
   "id": "aff1fa8f-c72f-404e-88c9-24d2fc8b4653",
   "metadata": {
    "tags": []
   },
   "outputs": [
    {
     "data": {
      "text/plain": [
       "<All keys matched successfully>"
      ]
     },
     "execution_count": 15,
     "metadata": {},
     "output_type": "execute_result"
    }
   ],
   "source": [
    "vit = VitClassifier(model_name=\"vit_base_patch16_224\", n_classes=5, pretrained=False).to(device)\n",
    "state_dict = torch.load(\"models/vit_23_29_epoch_2.pth\")\n",
    "vit.load_state_dict(state_dict)"
   ]
  },
  {
   "cell_type": "code",
   "execution_count": 16,
   "id": "9d47a14c-61b9-4324-b116-248f391f22d7",
   "metadata": {
    "tags": []
   },
   "outputs": [
    {
     "name": "stdout",
     "output_type": "stream",
     "text": [
      "evaluate vit\n"
     ]
    },
    {
     "name": "stderr",
     "output_type": "stream",
     "text": [
      "100%|██████████| 61/61 [02:57<00:00,  2.91s/it]"
     ]
    },
    {
     "name": "stdout",
     "output_type": "stream",
     "text": [
      "Test accuracy: 88 %\n"
     ]
    },
    {
     "name": "stderr",
     "output_type": "stream",
     "text": [
      "\n"
     ]
    }
   ],
   "source": [
    "print(\"evaluate vit\")\n",
    "vit_preds, vit_labels, vit_test_acc = evaluate(vit, test_loader)"
   ]
  },
  {
   "cell_type": "code",
   "execution_count": 17,
   "id": "9b5605f2-e825-4548-9918-b29f9268011d",
   "metadata": {
    "tags": []
   },
   "outputs": [
    {
     "name": "stderr",
     "output_type": "stream",
     "text": [
      "/home/ec2-user/anaconda3/envs/pytorch_p39/lib/python3.9/site-packages/torchvision/models/_utils.py:208: UserWarning: The parameter 'pretrained' is deprecated since 0.13 and may be removed in the future, please use 'weights' instead.\n",
      "  warnings.warn(\n",
      "/home/ec2-user/anaconda3/envs/pytorch_p39/lib/python3.9/site-packages/torchvision/models/_utils.py:223: UserWarning: Arguments other than a weight enum or `None` for 'weights' are deprecated since 0.13 and may be removed in the future. The current behavior is equivalent to passing `weights=None`.\n",
      "  warnings.warn(msg)\n"
     ]
    },
    {
     "data": {
      "text/plain": [
       "ResNet(\n",
       "  (resnet): ResNet(\n",
       "    (conv1): Conv2d(3, 64, kernel_size=(7, 7), stride=(2, 2), padding=(3, 3), bias=False)\n",
       "    (bn1): BatchNorm2d(64, eps=1e-05, momentum=0.1, affine=True, track_running_stats=True)\n",
       "    (relu): ReLU(inplace=True)\n",
       "    (maxpool): MaxPool2d(kernel_size=3, stride=2, padding=1, dilation=1, ceil_mode=False)\n",
       "    (layer1): Sequential(\n",
       "      (0): BasicBlock(\n",
       "        (conv1): Conv2d(64, 64, kernel_size=(3, 3), stride=(1, 1), padding=(1, 1), bias=False)\n",
       "        (bn1): BatchNorm2d(64, eps=1e-05, momentum=0.1, affine=True, track_running_stats=True)\n",
       "        (relu): ReLU(inplace=True)\n",
       "        (conv2): Conv2d(64, 64, kernel_size=(3, 3), stride=(1, 1), padding=(1, 1), bias=False)\n",
       "        (bn2): BatchNorm2d(64, eps=1e-05, momentum=0.1, affine=True, track_running_stats=True)\n",
       "      )\n",
       "      (1): BasicBlock(\n",
       "        (conv1): Conv2d(64, 64, kernel_size=(3, 3), stride=(1, 1), padding=(1, 1), bias=False)\n",
       "        (bn1): BatchNorm2d(64, eps=1e-05, momentum=0.1, affine=True, track_running_stats=True)\n",
       "        (relu): ReLU(inplace=True)\n",
       "        (conv2): Conv2d(64, 64, kernel_size=(3, 3), stride=(1, 1), padding=(1, 1), bias=False)\n",
       "        (bn2): BatchNorm2d(64, eps=1e-05, momentum=0.1, affine=True, track_running_stats=True)\n",
       "      )\n",
       "    )\n",
       "    (layer2): Sequential(\n",
       "      (0): BasicBlock(\n",
       "        (conv1): Conv2d(64, 128, kernel_size=(3, 3), stride=(2, 2), padding=(1, 1), bias=False)\n",
       "        (bn1): BatchNorm2d(128, eps=1e-05, momentum=0.1, affine=True, track_running_stats=True)\n",
       "        (relu): ReLU(inplace=True)\n",
       "        (conv2): Conv2d(128, 128, kernel_size=(3, 3), stride=(1, 1), padding=(1, 1), bias=False)\n",
       "        (bn2): BatchNorm2d(128, eps=1e-05, momentum=0.1, affine=True, track_running_stats=True)\n",
       "        (downsample): Sequential(\n",
       "          (0): Conv2d(64, 128, kernel_size=(1, 1), stride=(2, 2), bias=False)\n",
       "          (1): BatchNorm2d(128, eps=1e-05, momentum=0.1, affine=True, track_running_stats=True)\n",
       "        )\n",
       "      )\n",
       "      (1): BasicBlock(\n",
       "        (conv1): Conv2d(128, 128, kernel_size=(3, 3), stride=(1, 1), padding=(1, 1), bias=False)\n",
       "        (bn1): BatchNorm2d(128, eps=1e-05, momentum=0.1, affine=True, track_running_stats=True)\n",
       "        (relu): ReLU(inplace=True)\n",
       "        (conv2): Conv2d(128, 128, kernel_size=(3, 3), stride=(1, 1), padding=(1, 1), bias=False)\n",
       "        (bn2): BatchNorm2d(128, eps=1e-05, momentum=0.1, affine=True, track_running_stats=True)\n",
       "      )\n",
       "    )\n",
       "    (layer3): Sequential(\n",
       "      (0): BasicBlock(\n",
       "        (conv1): Conv2d(128, 256, kernel_size=(3, 3), stride=(2, 2), padding=(1, 1), bias=False)\n",
       "        (bn1): BatchNorm2d(256, eps=1e-05, momentum=0.1, affine=True, track_running_stats=True)\n",
       "        (relu): ReLU(inplace=True)\n",
       "        (conv2): Conv2d(256, 256, kernel_size=(3, 3), stride=(1, 1), padding=(1, 1), bias=False)\n",
       "        (bn2): BatchNorm2d(256, eps=1e-05, momentum=0.1, affine=True, track_running_stats=True)\n",
       "        (downsample): Sequential(\n",
       "          (0): Conv2d(128, 256, kernel_size=(1, 1), stride=(2, 2), bias=False)\n",
       "          (1): BatchNorm2d(256, eps=1e-05, momentum=0.1, affine=True, track_running_stats=True)\n",
       "        )\n",
       "      )\n",
       "      (1): BasicBlock(\n",
       "        (conv1): Conv2d(256, 256, kernel_size=(3, 3), stride=(1, 1), padding=(1, 1), bias=False)\n",
       "        (bn1): BatchNorm2d(256, eps=1e-05, momentum=0.1, affine=True, track_running_stats=True)\n",
       "        (relu): ReLU(inplace=True)\n",
       "        (conv2): Conv2d(256, 256, kernel_size=(3, 3), stride=(1, 1), padding=(1, 1), bias=False)\n",
       "        (bn2): BatchNorm2d(256, eps=1e-05, momentum=0.1, affine=True, track_running_stats=True)\n",
       "      )\n",
       "    )\n",
       "    (layer4): Sequential(\n",
       "      (0): BasicBlock(\n",
       "        (conv1): Conv2d(256, 512, kernel_size=(3, 3), stride=(2, 2), padding=(1, 1), bias=False)\n",
       "        (bn1): BatchNorm2d(512, eps=1e-05, momentum=0.1, affine=True, track_running_stats=True)\n",
       "        (relu): ReLU(inplace=True)\n",
       "        (conv2): Conv2d(512, 512, kernel_size=(3, 3), stride=(1, 1), padding=(1, 1), bias=False)\n",
       "        (bn2): BatchNorm2d(512, eps=1e-05, momentum=0.1, affine=True, track_running_stats=True)\n",
       "        (downsample): Sequential(\n",
       "          (0): Conv2d(256, 512, kernel_size=(1, 1), stride=(2, 2), bias=False)\n",
       "          (1): BatchNorm2d(512, eps=1e-05, momentum=0.1, affine=True, track_running_stats=True)\n",
       "        )\n",
       "      )\n",
       "      (1): BasicBlock(\n",
       "        (conv1): Conv2d(512, 512, kernel_size=(3, 3), stride=(1, 1), padding=(1, 1), bias=False)\n",
       "        (bn1): BatchNorm2d(512, eps=1e-05, momentum=0.1, affine=True, track_running_stats=True)\n",
       "        (relu): ReLU(inplace=True)\n",
       "        (conv2): Conv2d(512, 512, kernel_size=(3, 3), stride=(1, 1), padding=(1, 1), bias=False)\n",
       "        (bn2): BatchNorm2d(512, eps=1e-05, momentum=0.1, affine=True, track_running_stats=True)\n",
       "      )\n",
       "    )\n",
       "    (avgpool): AdaptiveAvgPool2d(output_size=(1, 1))\n",
       "    (fc): Linear(in_features=512, out_features=5, bias=True)\n",
       "  )\n",
       ")"
      ]
     },
     "execution_count": 17,
     "metadata": {},
     "output_type": "execute_result"
    }
   ],
   "source": [
    "rnet = ResNet(num_classes=5)\n",
    "rnet.resnet.load_state_dict(torch.load(\"models/resnet18-20_03.pth\"))\n",
    "rnet.resnet.to(device)\n",
    "rnet.to(device)"
   ]
  },
  {
   "cell_type": "code",
   "execution_count": 18,
   "id": "c47f5c49-5b31-43f2-8c3f-c86eb74c4ea9",
   "metadata": {
    "tags": []
   },
   "outputs": [
    {
     "name": "stdout",
     "output_type": "stream",
     "text": [
      "evaluate resnet\n"
     ]
    },
    {
     "name": "stderr",
     "output_type": "stream",
     "text": [
      "100%|██████████| 61/61 [02:38<00:00,  2.60s/it]"
     ]
    },
    {
     "name": "stdout",
     "output_type": "stream",
     "text": [
      "Test accuracy: 91 %\n"
     ]
    },
    {
     "name": "stderr",
     "output_type": "stream",
     "text": [
      "\n"
     ]
    }
   ],
   "source": [
    "print(\"evaluate resnet\")\n",
    "rn_preds, rn_labels, rn_test_acc = evaluate(rnet, test_loader)"
   ]
  },
  {
   "cell_type": "markdown",
   "id": "ab54353f-e8f6-49f9-9409-59e7af863746",
   "metadata": {},
   "source": [
    "## Ensemble"
   ]
  },
  {
   "cell_type": "code",
   "execution_count": 72,
   "id": "eb5b96a2-7c92-4b32-973e-dd6bef5c9dcb",
   "metadata": {
    "tags": []
   },
   "outputs": [],
   "source": [
    "from sklearn.metrics import accuracy_score, auc, precision_score, recall_score, f1_score, confusion_matrix, precision_recall_curve\n",
    "import torch.nn.functional as F\n",
    "import torch\n",
    "import torchvision.models as models\n",
    "import torch.nn as nn\n",
    "\n",
    "def evaluate_ensemble(models, test_loader):\n",
    "    num_models = len(models)\n",
    "    preds = [np.array([]) for _ in range(num_models)]\n",
    "    labels = np.array([])\n",
    "    ensemble_preds = np.array([])\n",
    "    correct = [0] * num_models\n",
    "    total = 0\n",
    "    probs_labels = []\n",
    "\n",
    "    with torch.no_grad():\n",
    "        pbar = tqdm(enumerate(test_loader), total=len(test_loader))\n",
    "        for step, (inputs, targets) in pbar:\n",
    "            inputs, targets = inputs.to(device), targets.to(device)\n",
    "\n",
    "            outputs = [F.softmax(model(inputs), dim=1) for model in models]\n",
    "            avg_output = torch.mean(torch.stack(outputs), dim=0)\n",
    "            _, predicted = torch.max(avg_output.data, 1)\n",
    "            ensemble_preds = np.concatenate([ensemble_preds, predicted.cpu().numpy()])\n",
    "            probs = F.softmax(avg_output, dim=1).cpu().numpy()\n",
    "            probs_labels.extend(probs)\n",
    "\n",
    "            total += targets.size(0)\n",
    "            labels = np.concatenate([labels, targets.cpu().numpy()])\n",
    "\n",
    "            for i in range(num_models):\n",
    "                preds[i] = np.concatenate([preds[i], outputs[i].argmax(1).cpu().numpy()])\n",
    "                correct[i] += (outputs[i].argmax(1) == targets).sum().item()\n",
    "\n",
    "            pbar.set_description('Evaluating ensemble')\n",
    "    \n",
    "    test_acc = [100 * correct[i] / total for i in range(num_models)]\n",
    "    ensemble_acc = 100 * (ensemble_preds == labels).sum() / total\n",
    "\n",
    "    print('Individual model accuracies:')\n",
    "    for i in range(num_models):\n",
    "        print('Model %d: %.2f %%' % (i, test_acc[i]))\n",
    "    print('Ensemble accuracy: %.2f %%' % (ensemble_acc))\n",
    "    \n",
    "    precision = precision_score(labels, ensemble_preds, average='weighted')\n",
    "    recall = recall_score(labels, ensemble_preds, average='weighted')\n",
    "    f1 = f1_score(labels, ensemble_preds, average='weighted')\n",
    "    print(\"precision \", precision)\n",
    "    print(\"recall \", recall)\n",
    "    print(\"f1 score \", f1)\n",
    "     # Calculate and print confusion matrix\n",
    "    conf_matrix = confusion_matrix(labels, ensemble_preds)\n",
    "    print(f\"Confusion matrix:\\n{conf_matrix}\")\n",
    "    \n",
    "    return ensemble_preds, labels, probs_labels, ensemble_acc"
   ]
  },
  {
   "cell_type": "code",
   "execution_count": 90,
   "id": "4f1d38a1-4e29-41fd-b43e-1183f64aca1b",
   "metadata": {
    "tags": []
   },
   "outputs": [],
   "source": [
    "from sklearn.metrics import precision_recall_fscore_support\n",
    "from sklearn.metrics import roc_auc_score\n",
    "from sklearn.metrics import roc_curve\n",
    "from sklearn.metrics import classification_report\n",
    "from sklearn.preprocessing import label_binarize\n",
    "from sklearn.metrics import auc\n",
    "\n",
    "def plotCurves(ensemble_preds, labels, probs_labels):\n",
    "    probs_labels = np.array(probs_labels)\n",
    "    # Compute ROC-AUC scores for each class\n",
    "    auc_scores = []\n",
    "    num_classes = 5\n",
    "\n",
    "    for i in range(num_classes):\n",
    "        true_labels_i = (np.array(labels) == i).astype(int)\n",
    "        probs_i = probs_labels[:, i]\n",
    "        auc_i = roc_auc_score(true_labels_i, probs_i)\n",
    "        auc_scores.append(auc_i)\n",
    "        print(f\"Class {i}: AUC = {auc_i:.3f}\")\n",
    "\n",
    "    # Compute micro-averaged ROC-AUC score\n",
    "    auc_micro = roc_auc_score(np.eye(num_classes)[labels.astype(int)], probs_labels, multi_class=\"ovr\")\n",
    "    print(f\"Micro-averaged AUC = {auc_micro:.3f}\")\n",
    "\n",
    "    # Plot ROC curves for each class\n",
    "    fpr = dict()\n",
    "    tpr = dict()\n",
    "    for i in range(num_classes):\n",
    "        true_labels_i = (np.array(labels) == i).astype(int)\n",
    "        probs_i = probs_labels[:, i]\n",
    "        fpr[i], tpr[i], _ = roc_curve(true_labels_i, probs_i)\n",
    "        plt.plot(fpr[i], tpr[i], label=f\"Class {i} (AUC = {auc_scores[i]:.2f})\")\n",
    "\n",
    "    # Plot micro-averaged ROC curve\n",
    "    fpr_micro, tpr_micro, _ = roc_curve(np.eye(num_classes)[labels.astype(int)].ravel(), probs_labels.ravel())\n",
    "    plt.plot(fpr_micro, tpr_micro, label=f\"Micro-averaged (AUC = {auc_micro:.2f})\", linestyle=\"--\")\n",
    "\n",
    "    # Plot random classifier curve\n",
    "    plt.plot([0, 1], [0, 1], \"k--\", label=\"Random\")\n",
    "\n",
    "    plt.xlabel(\"False Positive Rate\")\n",
    "    plt.ylabel(\"True Positive Rate\")\n",
    "    plt.title(\"ROC Curve\")\n",
    "    plt.legend()\n",
    "    plt.show()\n",
    "\n",
    "    #precision-recall\n",
    "    #first binarize the labels\n",
    "    bin_labels = label_binarize(labels, classes=[0, 1, 2, 3, 4])\n",
    "    precision, recall, thresholds = precision_recall_curve(bin_labels.ravel(), probs_labels.ravel())\n",
    "    pr_auc = auc(recall, precision)\n",
    "    #precision, recall, thresholds = precision_recall_curve(true_labels, pred_labels)\n",
    "    plt.plot(recall, precision, label = {pr_auc})\n",
    "    plt.xlabel('Recall')\n",
    "    plt.ylabel('Precision')\n",
    "    plt.title('Precision-Recall Curve')\n",
    "    plt.show()\n",
    "    print(\"PR_AUC is \", pr_auc)\n"
   ]
  },
  {
   "cell_type": "code",
   "execution_count": 92,
   "id": "7fe06bb0-b803-4055-ae69-5b0648280750",
   "metadata": {
    "tags": []
   },
   "outputs": [
    {
     "name": "stderr",
     "output_type": "stream",
     "text": [
      "Evaluating ensemble: 100%|██████████| 61/61 [03:13<00:00,  3.18s/it]"
     ]
    },
    {
     "name": "stdout",
     "output_type": "stream",
     "text": [
      "Individual model accuracies:\n",
      "Model 0: 67.01 %\n",
      "Model 1: 92.03 %\n",
      "Model 2: 88.34 %\n",
      "Ensemble accuracy: 92.29 %\n",
      "precision  0.9259429717366491\n",
      "recall  0.9229188078108942\n",
      "f1 score  0.9201653059916738\n",
      "Confusion matrix:\n",
      "[[  89    1    0    3    4]\n",
      " [   8  174    0   13    6]\n",
      " [   5    2  163   50    9]\n",
      " [   1    1    0 1180    2]\n",
      " [   6    5    1   33  190]]\n"
     ]
    },
    {
     "name": "stderr",
     "output_type": "stream",
     "text": [
      "\n"
     ]
    }
   ],
   "source": [
    "models = [cnn, rnet, vit]\n",
    "ensemble_preds, labels, probs_labels, ensemble_acc = evaluate_ensemble(models, test_loader)"
   ]
  },
  {
   "cell_type": "code",
   "execution_count": 93,
   "id": "3db49604-f223-4049-bb8f-0a20eb399444",
   "metadata": {
    "tags": []
   },
   "outputs": [
    {
     "name": "stdout",
     "output_type": "stream",
     "text": [
      "Class 0: AUC = 0.997\n",
      "Class 1: AUC = 0.995\n",
      "Class 2: AUC = 0.983\n",
      "Class 3: AUC = 0.992\n",
      "Class 4: AUC = 0.986\n",
      "Micro-averaged AUC = 0.990\n"
     ]
    },
    {
     "data": {
      "image/png": "[encoded data removed]",
      "text/plain": [
       "<Figure size 640x480 with 1 Axes>"
      ]
     },
     "metadata": {},
     "output_type": "display_data"
    },
    {
     "data": {
      "image/png": "[encoded data removed]",
      "text/plain": [
       "<Figure size 640x480 with 1 Axes>"
      ]
     },
     "metadata": {},
     "output_type": "display_data"
    },
    {
     "name": "stdout",
     "output_type": "stream",
     "text": [
      "PR_AUC is  0.9751186121045881\n"
     ]
    }
   ],
   "source": [
    "plotCurves(ensemble_preds, labels, probs_labels)"
   ]
  },
  {
   "cell_type": "code",
   "execution_count": 94,
   "id": "2d5ad7e1-d14c-4c57-8cde-c772d3ac1d70",
   "metadata": {
    "tags": []
   },
   "outputs": [
    {
     "name": "stderr",
     "output_type": "stream",
     "text": [
      "Evaluating ensemble: 100%|██████████| 61/61 [03:07<00:00,  3.07s/it]"
     ]
    },
    {
     "name": "stdout",
     "output_type": "stream",
     "text": [
      "Individual model accuracies:\n",
      "Model 0: 92.09 %\n",
      "Model 1: 88.34 %\n",
      "Ensemble accuracy: 94.60 %\n",
      "precision  0.9477089034818539\n",
      "recall  0.9460431654676259\n",
      "f1 score  0.9457536162903465\n",
      "Confusion matrix:\n",
      "[[  90    2    0    3    2]\n",
      " [   9  179    1    7    5]\n",
      " [   4    2  194   18   11]\n",
      " [   2    3    1 1172    6]\n",
      " [   9    4    0   16  206]]\n"
     ]
    },
    {
     "name": "stderr",
     "output_type": "stream",
     "text": [
      "\n"
     ]
    }
   ],
   "source": [
    "models = [rnet, vit]\n",
    "ensemble_preds, labels, probs_labels, ensemble_acc = evaluate_ensemble(models, test_loader)"
   ]
  },
  {
   "cell_type": "code",
   "execution_count": 95,
   "id": "ceb50fb6-8494-4733-a2cf-220432897abc",
   "metadata": {
    "tags": []
   },
   "outputs": [
    {
     "name": "stdout",
     "output_type": "stream",
     "text": [
      "Class 0: AUC = 0.997\n",
      "Class 1: AUC = 0.995\n",
      "Class 2: AUC = 0.991\n",
      "Class 3: AUC = 0.996\n",
      "Class 4: AUC = 0.990\n",
      "Micro-averaged AUC = 0.994\n"
     ]
    },
    {
     "data": {
      "image/png": "[encoded data removed]",
      "text/plain": [
       "<Figure size 640x480 with 1 Axes>"
      ]
     },
     "metadata": {},
     "output_type": "display_data"
    },
    {
     "data": {
      "image/png": "[encoded data removed]",
      "text/plain": [
       "<Figure size 640x480 with 1 Axes>"
      ]
     },
     "metadata": {},
     "output_type": "display_data"
    },
    {
     "name": "stdout",
     "output_type": "stream",
     "text": [
      "PR_AUC is  0.9858389125089304\n"
     ]
    }
   ],
   "source": [
    "plotCurves(ensemble_preds, labels, probs_labels)"
   ]
  },
  {
   "cell_type": "markdown",
   "id": "bb3123b8-1908-47ff-a52f-472922ec715d",
   "metadata": {},
   "source": [
    "## Ensemble TTA"
   ]
  },
  {
   "cell_type": "code",
   "execution_count": 41,
   "id": "3ae3bdac-a4d5-497a-9cba-3ba68d17b363",
   "metadata": {
    "tags": []
   },
   "outputs": [],
   "source": [
    "tta_transform = [\n",
    "    T.Resize(224),\n",
    "    T.CenterCrop(224),\n",
    "    T.RandomHorizontalFlip(),\n",
    "    T.RandomRotation(10),\n",
    "    T.ColorJitter(brightness=0.4, contrast=0.4, saturation=0.4, hue=0.1),\n",
    "    T.ToTensor(),\n",
    "    T.Normalize(\n",
    "        mean=[0.485, 0.456, 0.406],\n",
    "        std=[0.229, 0.224, 0.225])\n",
    "]\n"
   ]
  },
  {
   "cell_type": "code",
   "execution_count": 59,
   "id": "e902f85b-dae1-403c-8454-f7f751ee0944",
   "metadata": {},
   "outputs": [],
   "source": [
    "def evaluate_ensemble_tta(models, test_loader, tta_transform):\n",
    "    num_models = len(models)\n",
    "    preds = [np.array([]) for _ in range(num_models)]\n",
    "    labels = np.array([])\n",
    "    ensemble_preds = np.array([])\n",
    "    correct = [0] * num_models\n",
    "    total = 0\n",
    "\n",
    "    with torch.no_grad():\n",
    "        pbar = tqdm(enumerate(test_loader), total=len(test_loader))\n",
    "        for step, (inputs, targets) in pbar:\n",
    "            inputs, targets = inputs.to(device), targets.to(device)\n",
    "\n",
    "            if isinstance(inputs, torch.Tensor):\n",
    "                inputs = inputs.permute(0, 2, 3, 1).cpu().numpy()\n",
    "                inputs = [Image.fromarray(np.uint8(inputs[i] * 255)) for i in range(inputs.shape[0])]\n",
    "            else:\n",
    "                inputs = [transform(inputs) for transform in tta_transform]\n",
    "\n",
    "            inputs_transformed = torch.stack([transforms.ToTensor()(img) for img in inputs]).to(device)\n",
    "\n",
    "            outputs = [F.softmax(model(inputs_transformed), dim=1) for model in models]\n",
    "            avg_output = torch.mean(torch.stack(outputs), dim=0)\n",
    "            _, predicted = torch.max(avg_output.data, 1)\n",
    "            ensemble_preds = np.concatenate([ensemble_preds, predicted.cpu().numpy()])\n",
    "\n",
    "            total += targets.size(0)\n",
    "            labels = np.concatenate([labels, targets.cpu().numpy()])\n",
    "\n",
    "            for i in range(num_models):\n",
    "                preds[i] = np.concatenate([preds[i], outputs[i].argmax(1).cpu().numpy()])\n",
    "                correct[i] += (outputs[i].argmax(1) == targets).sum().item()\n",
    "\n",
    "            pbar.set_description('Evaluating ensemble')\n",
    "\n",
    "    test_acc = [100 * correct[i] / total for i in range(num_models)]\n",
    "    ensemble_acc = 100 * (ensemble_preds == labels).sum() / total\n",
    "\n",
    "    print('Individual model accuracies:')\n",
    "    for i in range(num_models):\n",
    "        print('Model %d: %.2f %%' % (i, test_acc[i]))\n",
    "    print('Ensemble accuracy: %.2f %%' % (ensemble_acc))\n",
    "\n",
    "    return ensemble_preds, labels, ensemble_acc"
   ]
  },
  {
   "cell_type": "code",
   "execution_count": 60,
   "id": "bf784869-0f4f-40b8-ad36-c2f2471a1482",
   "metadata": {
    "tags": []
   },
   "outputs": [
    {
     "name": "stderr",
     "output_type": "stream",
     "text": [
      "Evaluating ensemble: 100%|██████████| 61/61 [03:19<00:00,  3.27s/it]"
     ]
    },
    {
     "name": "stdout",
     "output_type": "stream",
     "text": [
      "Individual model accuracies:\n",
      "Model 0: 11.10 %\n",
      "Model 1: 59.30 %\n",
      "Ensemble accuracy: 45.84 %\n"
     ]
    },
    {
     "name": "stderr",
     "output_type": "stream",
     "text": [
      "\n"
     ]
    },
    {
     "data": {
      "text/plain": [
       "(array([0., 1., 1., ..., 4., 3., 1.]),\n",
       " array([4., 4., 4., ..., 3., 3., 1.]),\n",
       " 45.83761562178828)"
      ]
     },
     "execution_count": 60,
     "metadata": {},
     "output_type": "execute_result"
    }
   ],
   "source": [
    "models = [rnet, vit]\n",
    "evaluate_ensemble_tta(models, test_loader, tta_transform)"
   ]
  },
  {
   "cell_type": "code",
   "execution_count": null,
   "id": "00b7f9e7-3b69-4eeb-b48a-9d133410f4e5",
   "metadata": {},
   "outputs": [],
   "source": []
  }
 ],
 "metadata": {
  "kernelspec": {
   "display_name": "conda_pytorch_p39",
   "language": "python",
   "name": "conda_pytorch_p39"
  },
  "language_info": {
   "codemirror_mode": {
    "name": "ipython",
    "version": 3
   },
   "file_extension": ".py",
   "mimetype": "text/x-python",
   "name": "python",
   "nbconvert_exporter": "python",
   "pygments_lexer": "ipython3",
   "version": "3.9.15"
  }
 },
 "nbformat": 4,
 "nbformat_minor": 5
}
